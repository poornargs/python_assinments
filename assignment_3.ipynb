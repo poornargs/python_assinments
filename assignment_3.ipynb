{
 "cells": [
  {
   "cell_type": "markdown",
   "metadata": {},
   "source": [
    "## Session 3"
   ]
  },
  {
   "cell_type": "markdown",
   "metadata": {},
   "source": [
    "### Assignment 1"
   ]
  },
  {
   "cell_type": "markdown",
   "metadata": {},
   "source": [
    "### Task 1:"
   ]
  },
  {
   "cell_type": "markdown",
   "metadata": {},
   "source": [
    "#### 1. Write a function to compute 5/0 and use try/except to catch the exceptions. "
   ]
  },
  {
   "cell_type": "code",
   "execution_count": 1,
   "metadata": {},
   "outputs": [
    {
     "name": "stdout",
     "output_type": "stream",
     "text": [
      "In exception\n",
      "Finally i got here\n"
     ]
    }
   ],
   "source": [
    "try:\n",
    "    output = 5/0\n",
    "    print(output)\n",
    "except Exception as e:\n",
    "    print('In exception')\n",
    "else:\n",
    "    print('In else')\n",
    "finally:\n",
    "    print('Finally i got here')"
   ]
  },
  {
   "cell_type": "markdown",
   "metadata": {},
   "source": [
    "#### 2. Implement a Python program to generate all sentences where subject is in [\"Americans\", \"Indians\"] and verb is in [\"Play\", \"watch\"] and the object is in [\"Baseball\",\"cricket\"]. \n",
    " \n",
    "#### Hint: Subject,Verb and Object should be declared in the program as shown below. \n",
    " \n",
    "#### subjects=[\"Americans \",\"Indians\"]\n",
    "#### verbs=[\"play\",\"watch\"]\n",
    "#### objects=[\"Baseball\",\"Cricket\"] \n",
    " "
   ]
  },
  {
   "cell_type": "code",
   "execution_count": 2,
   "metadata": {},
   "outputs": [],
   "source": [
    "def createSentences(subjects, verbs, objects):\n",
    "    return ['{} {} {}'.format(i, j, k) for i in subjects for j in verbs for k in objects]"
   ]
  },
  {
   "cell_type": "code",
   "execution_count": 3,
   "metadata": {},
   "outputs": [
    {
     "name": "stdout",
     "output_type": "stream",
     "text": [
      "Americans play Baseball\n",
      "Americans play Cricket\n",
      "Americans watch Baseball\n",
      "Americans watch Cricket\n",
      "Indians play Baseball\n",
      "Indians play Cricket\n",
      "Indians watch Baseball\n",
      "Indians watch Cricket\n"
     ]
    }
   ],
   "source": [
    "subjects = [\"Americans\", \"Indians\"]\n",
    "verbs = [\"play\", 'watch']\n",
    "objects = [\"Baseball\", \"Cricket\"]\n",
    "\n",
    "allSentences = createSentences(subjects, verbs, objects)\n",
    "for sen in allSentences:\n",
    "    print(sen)"
   ]
  },
  {
   "cell_type": "code",
   "execution_count": null,
   "metadata": {},
   "outputs": [],
   "source": []
  },
  {
   "cell_type": "markdown",
   "metadata": {},
   "source": [
    "### Task 2:"
   ]
  },
  {
   "cell_type": "markdown",
   "metadata": {},
   "source": [
    "#### 1.  Write a function so that the columns of the output matrix are powers of the input vector.  \n",
    "#### The order of the powers is determined by the increasing boolean argument. Specifically, when\n",
    "#### increasing is False, the i-th output column is the input vector raised element-wise to the power\n",
    "#### of N - i - 1.  \n",
    " \n",
    "#### HINT: Such a matrix with a geometric progression in each row is named for Alexandre\n",
    "#### Theophile Vandermonde. "
   ]
  },
  {
   "cell_type": "code",
   "execution_count": 4,
   "metadata": {},
   "outputs": [],
   "source": [
    "x = [14, 15, 16, 17]\n",
    "Y = 4\n",
    "increasing = True\n",
    "\n",
    "import math\n",
    "\n",
    "def createVandermondeMatrix(x, Y=len(x), increasing=False):\n",
    "    return [[int(math.pow(i, j)) if increasing == True else int(math.pow(i, (Y - j - 1))) for j in range(Y)] for i in x ]"
   ]
  },
  {
   "cell_type": "code",
   "execution_count": 5,
   "metadata": {},
   "outputs": [
    {
     "data": {
      "text/plain": [
       "[[1, 14, 196, 2744],\n",
       " [1, 15, 225, 3375],\n",
       " [1, 16, 256, 4096],\n",
       " [1, 17, 289, 4913]]"
      ]
     },
     "execution_count": 5,
     "metadata": {},
     "output_type": "execute_result"
    }
   ],
   "source": [
    "arr1 = createVandermondeMatrix(x, Y, increasing)\n",
    "\n",
    "arr1"
   ]
  },
  {
   "cell_type": "code",
   "execution_count": 6,
   "metadata": {},
   "outputs": [
    {
     "data": {
      "text/plain": [
       "[[537824, 38416, 2744, 196, 14, 1],\n",
       " [759375, 50625, 3375, 225, 15, 1],\n",
       " [1048576, 65536, 4096, 256, 16, 1],\n",
       " [1419857, 83521, 4913, 289, 17, 1]]"
      ]
     },
     "execution_count": 6,
     "metadata": {},
     "output_type": "execute_result"
    }
   ],
   "source": [
    "arr2 = createVandermondeMatrix(x, Y=6, increasing=False)\n",
    "\n",
    "arr2"
   ]
  },
  {
   "cell_type": "code",
   "execution_count": 7,
   "metadata": {},
   "outputs": [
    {
     "name": "stdout",
     "output_type": "stream",
     "text": [
      "[[   1   14  196 2744]\n",
      " [   1   15  225 3375]\n",
      " [   1   16  256 4096]\n",
      " [   1   17  289 4913]]\n",
      "[[ 537824   38416    2744     196      14       1]\n",
      " [ 759375   50625    3375     225      15       1]\n",
      " [1048576   65536    4096     256      16       1]\n",
      " [1419857   83521    4913     289      17       1]]\n"
     ]
    }
   ],
   "source": [
    "import numpy as np\n",
    "\n",
    "a = np.array (x)\n",
    "\n",
    "print(np.vander(a, Y, increasing))\n",
    "print(np.vander(a, 6, increasing=False))"
   ]
  },
  {
   "cell_type": "code",
   "execution_count": null,
   "metadata": {},
   "outputs": [],
   "source": []
  },
  {
   "cell_type": "code",
   "execution_count": null,
   "metadata": {},
   "outputs": [],
   "source": []
  }
 ],
 "metadata": {
  "kernelspec": {
   "display_name": "Python 3",
   "language": "python",
   "name": "python3"
  },
  "language_info": {
   "codemirror_mode": {
    "name": "ipython",
    "version": 3
   },
   "file_extension": ".py",
   "mimetype": "text/x-python",
   "name": "python",
   "nbconvert_exporter": "python",
   "pygments_lexer": "ipython3",
   "version": "3.8.2"
  }
 },
 "nbformat": 4,
 "nbformat_minor": 4
}
